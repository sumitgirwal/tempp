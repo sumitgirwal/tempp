{
 "cells": [
  {
   "cell_type": "code",
   "execution_count": 17,
   "metadata": {},
   "outputs": [],
   "source": [
    "def read(filename):\n",
    "    with open(filename, \"r\") as f:\n",
    "        html = f.read()\n",
    "    return html\n",
    "\n",
    "def write(filename, html):\n",
    "    with open(filename, \"w\") as f:\n",
    "        f.write(html)"
   ]
  },
  {
   "cell_type": "code",
   "execution_count": 21,
   "metadata": {},
   "outputs": [],
   "source": []
  },
  {
   "cell_type": "code",
   "execution_count": 19,
   "metadata": {},
   "outputs": [],
   "source": [
    "from bs4 import BeautifulSoup"
   ]
  },
  {
   "cell_type": "code",
   "execution_count": 8,
   "metadata": {},
   "outputs": [],
   "source": []
  },
  {
   "cell_type": "code",
   "execution_count": 26,
   "metadata": {},
   "outputs": [
    {
     "name": "stdout",
     "output_type": "stream",
     "text": [
      "JSON data saved to 'data.json'\n"
     ]
    }
   ],
   "source": [
    "# Parse the HTML using BeautifulSoup\n",
    "html = read(\"home.html\")\n",
    "soup = BeautifulSoup(html, 'html.parser')\n",
    "import json\n",
    " \n",
    "script_tag = soup.find('script', id='__NEXT_DATA__')\n",
    "\n",
    "if script_tag:\n",
    "    json_data = script_tag.string\n",
    "    property_data = []\n",
    "    if json_data:\n",
    "        # Option 1: some properties are located in NEXT DATA cache\n",
    "        data = json.loads(json_data)\n",
    "        property_data = data[\"props\"][\"pageProps\"][\"componentProps\"][\"initialReduxState\"][\"gdp\"][\"building\"]\n",
    "\n",
    "    with open('data.json', 'w') as file:\n",
    "        json.dump(property_data, file, indent=4)   \n",
    "\n",
    "    print(\"JSON data saved to 'data.json'\")\n",
    "else:\n",
    "    print(\"Script tag with id '__NEXT_DATA__' not found.\")"
   ]
  },
  {
   "cell_type": "code",
   "execution_count": 5,
   "metadata": {},
   "outputs": [],
   "source": [
    "data = property_data \n",
    "data.get(\"buildingName\", \"\")\n",
    "data.get(\"streetAddress\", \"\")\n",
    "data.get(\"latitude\", \"\")\n",
    "data.get(\"longitude\", \"\")\n",
    "address = data.get(\"address\", \"\")\n",
    "full_address = f\"{address['streetAddress']}, {address['neighborhood']}, {address['city']}, {address['state']} {address['zipcode']}\""
   ]
  },
  {
   "cell_type": "code",
   "execution_count": 7,
   "metadata": {},
   "outputs": [],
   "source": [
    "pd = data"
   ]
  },
  {
   "cell_type": "code",
   "execution_count": 16,
   "metadata": {},
   "outputs": [
    {
     "name": "stdout",
     "output_type": "stream",
     "text": [
      "29\n"
     ]
    },
    {
     "data": {
      "text/plain": [
       "{'buildingName': 'The Avenue at Carlsbad',\n",
       " 'streetAddress': '2262 Avenida Magnifica',\n",
       " 'latitude': 33.175823,\n",
       " 'longitude': -117.329585,\n",
       " 'fulladdress': ''}"
      ]
     },
     "execution_count": 16,
     "metadata": {},
     "output_type": "execute_result"
    }
   ],
   "source": [
    "address = pd.get(\"address\", {})\n",
    "fullAddress = f\"{address['streetAddress']}, {address['city']}, {address['state']}, {address['zipcode']} {address['neighborhood']}\"\n",
    "isWaitlisted = \"Yes\" if pd.get(\"isWaitlisted\") else \"No\"\n",
    "contactType = \"For Rent\" if pd.get(\"contactType\")==\"FOR_RENT\" else \"None\"\n",
    "hasPetPark = \"Yes\" if pd.get(\"hasPetPark\") else \"No\"\n",
    "hasHotTub = \"Yes\" if pd.get(\"hasHotTub\") else \"No\"\n",
    "hasSauna = \"Yes\" if pd.get(\"hasSauna\") else \"No\"\n",
    "hasSwimmingPool = \"Yes\" if pd.get(\"hasSwimmingPool\") else \"No\"\n",
    "hasAssistedLiving = \"Yes\" if pd.get(\"hasAssistedLiving\") else \"No\"\n",
    "hasSharedLaundry = \"Yes\" if pd.get(\"hasSharedLaundry\") else \"No\"\n",
    "hasElevator = \"Yes\" if pd.get(\"hasElevator\") else \"No\"\n",
    "currency = pd.get(\"currency\", \"USD\")\n",
    "buildingName = pd.get(\"buildingName\", \"\")\n",
    "streetAddress = pd.get(\"streetAddress\", \"\")\n",
    "latitude = pd.get(\"latitude\", \"\")\n",
    "longitude = pd.get(\"longitude\", \"\")\n",
    "isWaitlisted = \"Yes\" if pd.get(\"isWaitlisted\") else \"No\"\n",
    "buildingType = \"Rent\" if pd.get(\"buildingType\") == \"FOR_RENT\" else \"None\"\n",
    "galleryPhotos = []\n",
    "for item in pd.get(\"galleryPhotos\", []):\n",
    "    webp = item.get(\"mixedSources\", {}).get(\"webp\")\n",
    "    galleryPhotos.append(webp[-1][\"url\"])\n",
    "fullAddress = pd.get(\"fullAddress\", \"\")\n",
    "buildingPhoneNumbr = pd.get(\"buildingPhoneNumbr\", \"\")\n",
    "county = pd.get(\"county\", \"\")\n",
    "homeTypes = pd.get(\"homeTypes\", [])[0]\n",
    "specialOffers = pd.get(\"specialOffers\", [])[0].get(\"description\")\n",
    "description = pd.get(\"description\", \"\")\n",
    "\n",
    "\n",
    "data = {\n",
    "    \"buildingName\": pd.get(\"buildingName\", \"\"),\n",
    "    \"streetAddress\": pd.get(\"streetAddress\", \"\"),\n",
    "    \"latitude\": pd.get(\"latitude\", \"\"),\n",
    "    \"longitude\": pd.get(\"longitude\", \"\"),\n",
    "    \"fulladdress\": pd.get(\"fulladdress\", \"\")\n",
    "}\n",
    "data"
   ]
  },
  {
   "cell_type": "code",
   "execution_count": null,
   "metadata": {},
   "outputs": [],
   "source": []
  }
 ],
 "metadata": {
  "kernelspec": {
   "display_name": "Python 3",
   "language": "python",
   "name": "python3"
  },
  "language_info": {
   "codemirror_mode": {
    "name": "ipython",
    "version": 3
   },
   "file_extension": ".py",
   "mimetype": "text/x-python",
   "name": "python",
   "nbconvert_exporter": "python",
   "pygments_lexer": "ipython3",
   "version": "3.12.4"
  }
 },
 "nbformat": 4,
 "nbformat_minor": 2
}
